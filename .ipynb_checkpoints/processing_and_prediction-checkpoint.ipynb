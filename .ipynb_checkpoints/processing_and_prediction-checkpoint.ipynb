{
 "cells": [
  {
   "cell_type": "code",
   "execution_count": 1,
   "metadata": {
    "collapsed": false
   },
   "outputs": [
    {
     "name": "stdout",
     "output_type": "stream",
     "text": [
      "Loading the training, test and store data\n"
     ]
    }
   ],
   "source": [
    "import pandas as pd\n",
    "import numpy as np\n",
    "print(\"Loading the training, test and store data\")\n",
    "types = {'CompetitionOpenSinceYear': np.dtype(int),'CompetitionOpenSinceMonth': np.dtype(int),'StateHoliday': np.dtype(str),'Promo2SinceWeek': np.dtype(int),'SchoolHoliday': np.dtype(float),'PromoInterval': np.dtype(str)}\n",
    "train = pd.read_csv(\"inputs/train.csv\", parse_dates=[2], dtype=types)\n",
    "test = pd.read_csv(\"inputs/test.csv\", parse_dates=[2], dtype=types)\n",
    "store = pd.read_csv(\"inputs/store.csv\")"
   ]
  },
  {
   "cell_type": "markdown",
   "metadata": {},
   "source": [
    "### Outliers-"
   ]
  },
  {
   "cell_type": "code",
   "execution_count": 2,
   "metadata": {
    "collapsed": false
   },
   "outputs": [
    {
     "name": "stdout",
     "output_type": "stream",
     "text": [
      "Data points considered outliers-\n",
      "Number of outliers in sales = 15863\n",
      "Number of outliers in customers = 22600\n",
      "Number of common outliers = 11334\n",
      "Dropping common outliers...\n",
      "1.90838602133 %  of data dropped\n"
     ]
    }
   ],
   "source": [
    "Q1 = np.percentile(train['Sales'], 25)\n",
    "Q3 = np.percentile(train['Sales'], 75)\n",
    "step = step = 1.5 * (Q3 - Q1)\n",
    "print \"Data points considered outliers-\"\n",
    "#display(train[~((train['Sales'] >= Q1 - step) & (train['Sales'] <= Q3 + step))])\n",
    "i=train[~((train['Sales'] >= Q1 - step) & (train['Sales'] <= Q3 + step))].index\n",
    "print \"Number of outliers in sales =\", len(i)\n",
    "Q1 = np.percentile(train['Customers'], 25)\n",
    "Q3 = np.percentile(train['Customers'], 75)\n",
    "step = step = 1.5 * (Q3 - Q1)\n",
    "#display(train[~((train['Customers'] >= Q1 - step) & (train['Customers'] <= Q3 + step))])\n",
    "j=train[~((train['Customers'] >= Q1 - step) & (train['Customers'] <= Q3 + step))].index\n",
    "print \"Number of outliers in customers =\", len(j)\n",
    "common_outliers = set(i).intersection(j)\n",
    "print \"Number of common outliers =\", len(common_outliers)\n",
    "print \"Dropping common outliers...\"\n",
    "train = train.drop(train.index[list(common_outliers)]).reset_index(drop = True)\n",
    "print float(len(common_outliers))*100/float(train.shape[0]), \"%  of data dropped\""
   ]
  },
  {
   "cell_type": "markdown",
   "metadata": {},
   "source": [
    "### Preprocessing data"
   ]
  },
  {
   "cell_type": "code",
   "execution_count": 3,
   "metadata": {
    "collapsed": true
   },
   "outputs": [],
   "source": [
    "def preprocess(features, data):\n",
    "    # remove NaNs-\n",
    "    data.fillna(0, inplace=True)\n",
    "    #take the store as open if no value given-\n",
    "    data.loc[data.Open.isnull(), 'Open'] = 1\n",
    "    #only process stores which are open, otherwise whats the point:\n",
    "    data = data[data[\"Open\"] != 0]         \n",
    "    # Use some properties directly\n",
    "    features.extend(['Store', 'CompetitionDistance', 'Promo', 'Promo2', 'SchoolHoliday'])\n",
    "    # Label encode some features\n",
    "    features.extend(['StoreType', 'Assortment', 'StateHoliday'])\n",
    "    mappings = {'0':0, 'a':1, 'b':2, 'c':3, 'd':4}\n",
    "    data.StoreType.replace(mappings, inplace=True)\n",
    "    data.Assortment.replace(mappings, inplace=True)\n",
    "    data.StateHoliday.replace(mappings, inplace=True)\n",
    "\n",
    "    features.extend(['DayOfWeek', 'Month', 'Day', 'Year', 'WeekOfYear'])\n",
    "    data['Year'] = data.Date.dt.year\n",
    "    data['Month'] = data.Date.dt.month\n",
    "    data['Day'] = data.Date.dt.day\n",
    "    data['DayOfWeek'] = data.Date.dt.dayofweek\n",
    "    data['WeekOfYear'] = data.Date.dt.weekofyear\n",
    "  \n",
    "\n",
    "    # Calculate time competition open time in months\n",
    "    features.append('CompetitionOpen')\n",
    "    data['CompetitionOpen'] = 12 * (data.Year - data.CompetitionOpenSinceYear) + (data.Month - data.CompetitionOpenSinceMonth)\n",
    "    # Promo open time in months\n",
    "    features.append('PromoOpen')\n",
    "    data['PromoOpen'] = 12 * (data.Year - data.Promo2SinceYear) + (data.WeekOfYear - data.Promo2SinceWeek) / 4.0\n",
    "    data['PromoOpen'] = data.PromoOpen.apply(lambda x: x if x > 0 else 0)\n",
    "    data.loc[data.Promo2SinceYear == 0, 'PromoOpen'] = 0\n",
    "\n",
    "    # Indicate that sales on that day are in promo interval\n",
    "    features.append('IsPromoMonth')\n",
    "    month2str = {1:'Jan', 2:'Feb', 3:'Mar', 4:'Apr', 5:'May', 6:'Jun', 7:'Jul', 8:'Aug', 9:'Sept', 10:'Oct', 11:'Nov', 12:'Dec'}\n",
    "    data['monthStr'] = data.Month.map(month2str)\n",
    "    data.loc[data.PromoInterval == 0, 'PromoInterval'] = ''\n",
    "    data['IsPromoMonth'] = 0\n",
    "    for interval in data.PromoInterval.unique():\n",
    "        if interval != '':\n",
    "            for month in interval.split(','):\n",
    "                data.loc[(data.monthStr == month) & (data.PromoInterval == interval), 'IsPromoMonth'] = 1\n",
    "    return features, data"
   ]
  },
  {
   "cell_type": "code",
   "execution_count": 4,
   "metadata": {
    "collapsed": false,
    "scrolled": true
   },
   "outputs": [],
   "source": [
    "import warnings\n",
    "warnings.simplefilter(action = \"ignore\")\n",
    "train = pd.merge(train, store, on='Store')\n",
    "test = pd.merge(test, store, on='Store')\n",
    "features = []\n",
    "features, train= preprocess(features, train)\n",
    "\n",
    "#Drop rows where sales are zero\n",
    "train = train[train[\"Sales\"] > 0]"
   ]
  },
  {
   "cell_type": "code",
   "execution_count": 5,
   "metadata": {
    "collapsed": false
   },
   "outputs": [
    {
     "name": "stdout",
     "output_type": "stream",
     "text": [
      "Training set has 392592 samples.\n",
      "Testing set has 98149 samples.\n"
     ]
    }
   ],
   "source": [
    "from sklearn import cross_validation\n",
    "\n",
    "# TODO: Shuffle and split the dataset into the number of training and testing points above\n",
    "X_train, X_test = cross_validation.train_test_split(train, test_size=0.2)\n",
    "\n",
    "# Show the results of the split\n",
    "print \"Training set has {} samples.\".format(X_train.shape[0])\n",
    "print \"Testing set has {} samples.\".format(X_test.shape[0])"
   ]
  },
  {
   "cell_type": "code",
   "execution_count": 6,
   "metadata": {
    "collapsed": true
   },
   "outputs": [],
   "source": [
    "from sklearn.metrics import mean_squared_error\n",
    "from time import time\n",
    "def train_regressor(rgr, X_train, y_train):\n",
    "    ''' Fits a regressor to the training data. '''\n",
    "    \n",
    "    # Start the clock, train the regressor, then stop the clock\n",
    "    start = time()\n",
    "    rgr.fit(X_train, y_train)\n",
    "    end = time()\n",
    "    \n",
    "    # Print the results\n",
    "    print \"Trained model in {:.4f} seconds\".format(end - start)\n",
    "\n",
    "    \n",
    "def predict_labels(rgr, features, target):\n",
    "    ''' Makes predictions using a fit regressor based on mean_squared_error '''\n",
    "    \n",
    "    # Start the clock, make predictions, then stop the clock\n",
    "    start = time()\n",
    "    y_pred = rgr.predict(features)\n",
    "    end = time()\n",
    "    \n",
    "    # Print and return results\n",
    "    print \"Made predictions in {:.4f} seconds.\".format(end - start)\n",
    "    #return mean_squared_error(target.values, y_pred)\n",
    "    return np.sqrt(((y_pred - target.values) ** 2).mean())\n",
    "\n",
    "\n",
    "\n",
    "def train_predict(rgr, X_train, y_train, X_test, y_test):\n",
    "    ''' Train and predict using a regressor based on F1 score. '''\n",
    "    \n",
    "    # Indicate the regressor and the training set size\n",
    "    print \"Training a {} using a training set size of {}. . .\".format(rgr.__class__.__name__, len(X_train))\n",
    "    \n",
    "    # Train the regressor\n",
    "    train_regressor(rgr, X_train, y_train)\n",
    "    \n",
    "    # Print the results of prediction for both training and testing\n",
    "    print \"mean_squared_error for training set: {:.4f}.\".format(predict_labels(rgr, X_train, y_train))\n",
    "    print \"mean_squared_error for test set: {:.4f}.\".format(predict_labels(rgr, X_test, y_test))"
   ]
  },
  {
   "cell_type": "code",
   "execution_count": 7,
   "metadata": {
    "collapsed": false
   },
   "outputs": [],
   "source": [
    "from sklearn.neighbors import KNeighborsRegressor\n",
    "from sklearn.ensemble import GradientBoostingRegressor\n",
    "from sklearn.tree import DecisionTreeRegressor\n",
    "rgr_A = DecisionTreeRegressor(random_state=0)\n",
    "rgr_B = KNeighborsRegressor()\n",
    "rgr_C = GradientBoostingRegressor()\n",
    "i=np.log1p(X_train.Sales)\n",
    "j=np.log1p(X_test.Sales)"
   ]
  },
  {
   "cell_type": "code",
   "execution_count": 8,
   "metadata": {
    "collapsed": false
   },
   "outputs": [
    {
     "name": "stdout",
     "output_type": "stream",
     "text": [
      "Training a DecisionTreeRegressor using a training set size of 392592. . .\n",
      "Trained model in 5.8305 seconds\n",
      "Made predictions in 0.5317 seconds.\n",
      "mean_squared_error for training set: 0.0000.\n",
      "Made predictions in 0.1229 seconds.\n",
      "mean_squared_error for test set: 0.1812.\n"
     ]
    }
   ],
   "source": [
    "train_predict(rgr_A, X_train[features], i, X_test[features], j)"
   ]
  },
  {
   "cell_type": "code",
   "execution_count": 9,
   "metadata": {
    "collapsed": false
   },
   "outputs": [
    {
     "name": "stdout",
     "output_type": "stream",
     "text": [
      "Training a KNeighborsRegressor using a training set size of 392592. . .\n",
      "Trained model in 2.7518 seconds\n",
      "Made predictions in 23.7530 seconds.\n",
      "mean_squared_error for training set: 0.1930.\n",
      "Made predictions in 5.8762 seconds.\n",
      "mean_squared_error for test set: 0.2444.\n"
     ]
    }
   ],
   "source": [
    "train_predict(rgr_B, X_train[features], i, X_test[features], j)"
   ]
  },
  {
   "cell_type": "code",
   "execution_count": 10,
   "metadata": {
    "collapsed": false
   },
   "outputs": [
    {
     "name": "stdout",
     "output_type": "stream",
     "text": [
      "Training a GradientBoostingRegressor using a training set size of 392592. . .\n",
      "Trained model in 72.1552 seconds\n",
      "Made predictions in 1.0902 seconds.\n",
      "mean_squared_error for training set: 0.3143.\n",
      "Made predictions in 0.2475 seconds.\n",
      "mean_squared_error for test set: 0.3154.\n"
     ]
    }
   ],
   "source": [
    "train_predict(rgr_C, X_train[features], i, X_test[features], j)"
   ]
  },
  {
   "cell_type": "code",
   "execution_count": 11,
   "metadata": {
    "collapsed": false
   },
   "outputs": [
    {
     "name": "stdout",
     "output_type": "stream",
     "text": [
      "Feature ranking:\n",
      "1. feature 1 :DayOfWeek (0.242784)\n",
      "2. feature 0 :Store (0.207635)\n",
      "3. feature 2 :Date (0.172682)\n",
      "4. feature 13 :CompetitionOpenSinceYear (0.097464)\n",
      "5. feature 8 :SchoolHoliday (0.071592)\n",
      "6. feature 10 :Assortment (0.042990)\n",
      "7. feature 5 :Open (0.036529)\n",
      "8. feature 12 :CompetitionOpenSinceMonth (0.034023)\n",
      "9. feature 14 :Promo2 (0.033737)\n",
      "10. feature 6 :Promo (0.022285)\n",
      "11. feature 3 :Sales (0.012412)\n",
      "12. feature 9 :StoreType (0.011741)\n",
      "13. feature 11 :CompetitionDistance (0.006378)\n",
      "14. feature 4 :Customers (0.004225)\n",
      "15. feature 15 :Promo2SinceWeek (0.002041)\n"
     ]
    },
    {
     "data": {
      "image/png": "[encoded data removed]",
      "text/plain": [
       "<matplotlib.figure.Figure at 0x7f44731bf8d0>"
      ]
     },
     "metadata": {},
     "output_type": "display_data"
    }
   ],
   "source": [
    "%matplotlib inline\n",
    "import matplotlib.pyplot as plt\n",
    "importances = rgr_A.feature_importances_ \n",
    "# return the indices that would sort the importance, decreasing\n",
    "indices = np.argsort(importances)[::-1]\n",
    "print(\"Feature ranking:\")\n",
    "for f in range(15):\n",
    "    print(\"%d. feature %d :%s (%f)\" % (f + 1, indices[f],X_train.columns[indices[f]], importances[indices[f]]))\n",
    "\n",
    "plt.figure()\n",
    "plt.title(\"Feature importances\")\n",
    "plt.bar(range(1,10), importances[indices[range(1,10)]]) \n",
    "plt.xlim([-1, 10])\n",
    "plt.show()"
   ]
  },
  {
   "cell_type": "code",
   "execution_count": 12,
   "metadata": {
    "collapsed": false
   },
   "outputs": [],
   "source": [
    "#train over complete dataset and predict test-\n",
    "p=[]\n",
    "p, test= preprocess(p, test)\n",
    "i=np.log1p(train.Sales)\n",
    "rgr_A.fit(train[features], i)\n",
    "pred =rgr_A.predict(test[features])\n",
    "p_Sales =rgr_A.predict(test[features])\n",
    "test['p_Sales'] = np.expm1(p_Sales)\n",
    "test.to_csv(\"prediction.csv\", index=False)"
   ]
  },
  {
   "cell_type": "code",
   "execution_count": null,
   "metadata": {
    "collapsed": true
   },
   "outputs": [],
   "source": []
  }
 ],
 "metadata": {
  "celltoolbar": "Raw Cell Format",
  "kernelspec": {
   "display_name": "Python [Root]",
   "language": "python",
   "name": "Python [Root]"
  },
  "language_info": {
   "codemirror_mode": {
    "name": "ipython",
    "version": 2
   },
   "file_extension": ".py",
   "mimetype": "text/x-python",
   "name": "python",
   "nbconvert_exporter": "python",
   "pygments_lexer": "ipython2",
   "version": "2.7.12"
  }
 },
 "nbformat": 4,
 "nbformat_minor": 0
}
