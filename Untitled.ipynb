{
 "cells": [
  {
   "cell_type": "code",
   "execution_count": 6,
   "metadata": {
    "collapsed": false
   },
   "outputs": [],
   "source": [
    "# %load create_files.py\n",
    "#This file takes the downloaded data from kaggle and splits the data into training and testing sets so that it is ready for the project\n",
    "#To be run only once for creation of files\n",
    "\n",
    "import pandas as pd\n",
    "import numpy as np\n",
    "#read the downloaded dataset-\n",
    "ds = pd.read_csv('download/store.csv') \n",
    "df = pd.read_csv('download/train.csv')\n",
    "#split 85% of data into training set and rest into test set-\n",
    "train = df.sample(frac=0.85,random_state=200)\n",
    "test_n_results = df.drop(train.index)\n",
    "#create test dataframe which will be used for prediction-\n",
    "test=test_n_results.drop('Sales', 1)\n",
    "#write everything into csv-\n",
    "test.to_csv('inputs/test.csv', index = False)\n",
    "test_n_results.to_csv('inputs/results.csv', index = False)\n",
    "train.to_csv('inputs/train.csv', index = False)\n",
    "ds.to_csv('inputs/store.csv', index = False)\n",
    "\n",
    "\n",
    "\n"
   ]
  },
  {
   "cell_type": "code",
   "execution_count": 4,
   "metadata": {
    "collapsed": false
   },
   "outputs": [
    {
     "data": {
      "text/plain": [
       "Index([u'Store', u'DayOfWeek', u'Date', u'Sales', u'Customers', u'Open',\n",
       "       u'Promo', u'StateHoliday', u'SchoolHoliday'],\n",
       "      dtype='object')"
      ]
     },
     "execution_count": 4,
     "metadata": {},
     "output_type": "execute_result"
    }
   ],
   "source": [
    "train.columns"
   ]
  },
  {
   "cell_type": "code",
   "execution_count": null,
   "metadata": {
    "collapsed": true
   },
   "outputs": [],
   "source": []
  }
 ],
 "metadata": {
  "kernelspec": {
   "display_name": "Python [Root]",
   "language": "python",
   "name": "Python [Root]"
  },
  "language_info": {
   "codemirror_mode": {
    "name": "ipython",
    "version": 2
   },
   "file_extension": ".py",
   "mimetype": "text/x-python",
   "name": "python",
   "nbconvert_exporter": "python",
   "pygments_lexer": "ipython2",
   "version": "2.7.12"
  }
 },
 "nbformat": 4,
 "nbformat_minor": 0
}
